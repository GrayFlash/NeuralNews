{
 "cells": [
  {
   "cell_type": "code",
   "execution_count": 2,
   "metadata": {
    "colab": {},
    "colab_type": "code",
    "id": "NvvAphlRVD7e"
   },
   "outputs": [],
   "source": [
    "import numpy as np\n",
    "import pandas as pd \n",
    "train=pd.read_csv('train.csv')\n",
    "test=pd.read_csv('test.csv')\n",
    "test['label']='t'\n",
    "# test.head()"
   ]
  },
  {
   "cell_type": "code",
   "execution_count": 3,
   "metadata": {
    "colab": {},
    "colab_type": "code",
    "id": "dgPBjvA0VQFo"
   },
   "outputs": [],
   "source": [
    "from sklearn.feature_extraction.text import CountVectorizer\n",
    "from sklearn.naive_bayes import MultinomialNB\n",
    "from sklearn.feature_extraction.text import TfidfTransformer\n",
    "\n",
    "#data prep\n",
    "test=test.fillna(' ')\n",
    "train=train.fillna(' ')\n",
    "test['total']=test['title']+' '+test['author']+test['text']\n",
    "train['total']=train['title']+' '+train['author']+train['text']\n",
    "\n",
    "#tfidf\n",
    "transformer = TfidfTransformer(smooth_idf=False)\n",
    "count_vectorizer = CountVectorizer(ngram_range=(1, 2))\n",
    "counts = count_vectorizer.fit_transform(train['total'].values)\n",
    "tfidf = transformer.fit_transform(counts)"
   ]
  },
  {
   "cell_type": "code",
   "execution_count": 4,
   "metadata": {
    "colab": {
     "base_uri": "https://localhost:8080/",
     "height": 50
    },
    "colab_type": "code",
    "id": "PJEUdIsUVQAF",
    "outputId": "816cd67d-1673-438c-b665-f4c5aa353a4b"
   },
   "outputs": [
    {
     "name": "stderr",
     "output_type": "stream",
     "text": [
      "/home/gray/anaconda3/lib/python3.7/site-packages/sklearn/feature_extraction/text.py:1466: RuntimeWarning: divide by zero encountered in true_divide\n",
      "  idf = np.log(n_samples / df) + 1\n"
     ]
    }
   ],
   "source": [
    "targets = train['label'].values\n",
    "test_counts = count_vectorizer.transform(test['total'].values)\n",
    "test_tfidf = transformer.fit_transform(test_counts)\n",
    "\n",
    "from sklearn.model_selection import train_test_split\n",
    "X_train, X_test, y_train, y_test = train_test_split(tfidf, targets, random_state=0)"
   ]
  },
  {
   "cell_type": "code",
   "execution_count": 5,
   "metadata": {
    "colab": {
     "base_uri": "https://localhost:8080/",
     "height": 34
    },
    "colab_type": "code",
    "id": "4CHs1mW-seko",
    "outputId": "5c943cbc-21e0-433d-e062-b1da9581d85f"
   },
   "outputs": [
    {
     "data": {
      "text/plain": [
       "((15600, 3611325), (15600,))"
      ]
     },
     "execution_count": 5,
     "metadata": {},
     "output_type": "execute_result"
    }
   ],
   "source": [
    "X_train.shape , y_train.shape"
   ]
  },
  {
   "cell_type": "code",
   "execution_count": 7,
   "metadata": {
    "colab": {
     "base_uri": "https://localhost:8080/",
     "height": 185
    },
    "colab_type": "code",
    "id": "SWSHjRWwVO_q",
    "outputId": "d2ab2627-71af-4cb2-8e23-96f8c0e6e0b9"
   },
   "outputs": [
    {
     "name": "stderr",
     "output_type": "stream",
     "text": [
      "/home/gray/anaconda3/lib/python3.7/site-packages/sklearn/linear_model/_logistic.py:940: ConvergenceWarning: lbfgs failed to converge (status=1):\n",
      "STOP: TOTAL NO. of ITERATIONS REACHED LIMIT.\n",
      "\n",
      "Increase the number of iterations (max_iter) or scale the data as shown in:\n",
      "    https://scikit-learn.org/stable/modules/preprocessing.html\n",
      "Please also refer to the documentation for alternative solver options:\n",
      "    https://scikit-learn.org/stable/modules/linear_model.html#logistic-regression\n",
      "  extra_warning_msg=_LOGISTIC_SOLVER_CONVERGENCE_MSG)\n"
     ]
    },
    {
     "name": "stdout",
     "output_type": "stream",
     "text": [
      "Accuracy of Lasso classifier on training set: 1.00\n",
      "Accuracy of Lasso classifier on test set: 0.98\n"
     ]
    }
   ],
   "source": [
    "from sklearn.linear_model import LogisticRegression\n",
    "logreg = LogisticRegression(C=1e5)\n",
    "logreg.fit(X_train, y_train)\n",
    "print('Accuracy of Lasso classifier on training set: {:.2f}'\n",
    "     .format(logreg.score(X_train, y_train)))\n",
    "print('Accuracy of Lasso classifier on test set: {:.2f}'\n",
    "     .format(logreg.score(X_test, y_test)))"
   ]
  },
  {
   "cell_type": "code",
   "execution_count": 8,
   "metadata": {
    "colab": {
     "base_uri": "https://localhost:8080/",
     "height": 50
    },
    "colab_type": "code",
    "id": "RYV644gG7mtw",
    "outputId": "bc9ed605-cd09-4c1e-e552-939a297c8a36"
   },
   "outputs": [
    {
     "name": "stdout",
     "output_type": "stream",
     "text": [
      "[1.00000000e+00 9.99989048e-01 2.46202164e-05 ... 2.53000335e-07\n",
      " 1.02082068e-08 2.45538298e-05] [1 1 0 ... 0 0 0]\n"
     ]
    }
   ],
   "source": [
    "y_train_pred = logreg.predict_proba(X_train)\n",
    "print(y_train_pred[:,1], y_train)"
   ]
  },
  {
   "cell_type": "code",
   "execution_count": 9,
   "metadata": {
    "colab": {
     "base_uri": "https://localhost:8080/",
     "height": 34
    },
    "colab_type": "code",
    "id": "IJrRb6aMNCUM",
    "outputId": "5d0be738-f86e-4d80-fcac-f3932e81694c"
   },
   "outputs": [
    {
     "name": "stdout",
     "output_type": "stream",
     "text": [
      "[0.00108589 0.99996355 0.99999597 ... 0.22990449 0.9999998  0.55225337] [0 1 1 ... 0 1 0]\n"
     ]
    }
   ],
   "source": [
    "y_test_pred =logreg.predict_proba(X_test)\n",
    "print(y_test_pred[:,1], y_test)"
   ]
  },
  {
   "cell_type": "code",
   "execution_count": 10,
   "metadata": {
    "colab": {
     "base_uri": "https://localhost:8080/",
     "height": 270
    },
    "colab_type": "code",
    "id": "x2Vvn9n2VOwJ",
    "outputId": "220f7578-5125-4e9a-c6ff-d39f5e9f8354"
   },
   "outputs": [
    {
     "name": "stderr",
     "output_type": "stream",
     "text": [
      "/home/gray/anaconda3/lib/python3.7/site-packages/sklearn/linear_model/_logistic.py:940: ConvergenceWarning: lbfgs failed to converge (status=1):\n",
      "STOP: TOTAL NO. of ITERATIONS REACHED LIMIT.\n",
      "\n",
      "Increase the number of iterations (max_iter) or scale the data as shown in:\n",
      "    https://scikit-learn.org/stable/modules/preprocessing.html\n",
      "Please also refer to the documentation for alternative solver options:\n",
      "    https://scikit-learn.org/stable/modules/linear_model.html#logistic-regression\n",
      "  extra_warning_msg=_LOGISTIC_SOLVER_CONVERGENCE_MSG)\n"
     ]
    },
    {
     "data": {
      "text/html": [
       "<div>\n",
       "<style scoped>\n",
       "    .dataframe tbody tr th:only-of-type {\n",
       "        vertical-align: middle;\n",
       "    }\n",
       "\n",
       "    .dataframe tbody tr th {\n",
       "        vertical-align: top;\n",
       "    }\n",
       "\n",
       "    .dataframe thead th {\n",
       "        text-align: right;\n",
       "    }\n",
       "</style>\n",
       "<table border=\"1\" class=\"dataframe\">\n",
       "  <thead>\n",
       "    <tr style=\"text-align: right;\">\n",
       "      <th></th>\n",
       "      <th>id</th>\n",
       "    </tr>\n",
       "    <tr>\n",
       "      <th>label</th>\n",
       "      <th></th>\n",
       "    </tr>\n",
       "  </thead>\n",
       "  <tbody>\n",
       "    <tr>\n",
       "      <th>0</th>\n",
       "      <td>2603</td>\n",
       "    </tr>\n",
       "    <tr>\n",
       "      <th>1</th>\n",
       "      <td>2597</td>\n",
       "    </tr>\n",
       "  </tbody>\n",
       "</table>\n",
       "</div>"
      ],
      "text/plain": [
       "         id\n",
       "label      \n",
       "0      2603\n",
       "1      2597"
      ]
     },
     "execution_count": 10,
     "metadata": {},
     "output_type": "execute_result"
    }
   ],
   "source": [
    "targets = train['label'].values\n",
    "logreg = LogisticRegression()\n",
    "logreg.fit(counts, targets)\n",
    "\n",
    "example_counts = count_vectorizer.transform(test['total'].values)\n",
    "predictions = logreg.predict(example_counts)\n",
    "pred=pd.DataFrame(predictions,columns=['label'])\n",
    "pred['id']=test['id']\n",
    "pred.groupby('label').count()"
   ]
  },
  {
   "cell_type": "code",
   "execution_count": 11,
   "metadata": {
    "colab": {},
    "colab_type": "code",
    "id": "RHzNAmw-VOhZ"
   },
   "outputs": [],
   "source": [
    "pred.to_csv('countvect5.csv', index=False)"
   ]
  },
  {
   "cell_type": "code",
   "execution_count": 12,
   "metadata": {
    "colab": {},
    "colab_type": "code",
    "id": "FnW8AkMEM11h"
   },
   "outputs": [],
   "source": [
    "prediction_data = pd.read_csv('/home/gray/Desktop/NeuralNews/dataset-for-model/first.csv')"
   ]
  },
  {
   "cell_type": "code",
   "execution_count": 13,
   "metadata": {},
   "outputs": [
    {
     "data": {
      "text/html": [
       "<div>\n",
       "<style scoped>\n",
       "    .dataframe tbody tr th:only-of-type {\n",
       "        vertical-align: middle;\n",
       "    }\n",
       "\n",
       "    .dataframe tbody tr th {\n",
       "        vertical-align: top;\n",
       "    }\n",
       "\n",
       "    .dataframe thead th {\n",
       "        text-align: right;\n",
       "    }\n",
       "</style>\n",
       "<table border=\"1\" class=\"dataframe\">\n",
       "  <thead>\n",
       "    <tr style=\"text-align: right;\">\n",
       "      <th></th>\n",
       "      <th>Title</th>\n",
       "      <th>Story Url</th>\n",
       "      <th>Brief Intro</th>\n",
       "      <th>Paragraph</th>\n",
       "      <th>Image Url</th>\n",
       "    </tr>\n",
       "  </thead>\n",
       "  <tbody>\n",
       "    <tr>\n",
       "      <th>0</th>\n",
       "      <td>Cuba welcomes tourists after months of being c...</td>\n",
       "      <td>https://www.indiatoday.in/lifestyle/travel/sto...</td>\n",
       "      <td>Cuba finally welcomed tourists after months of...</td>\n",
       "      <td>['Cuba rolled out the red carpet on Friday for...</td>\n",
       "      <td>https://akm-img-a-in.tosshub.com/indiatoday/im...</td>\n",
       "    </tr>\n",
       "    <tr>\n",
       "      <th>1</th>\n",
       "      <td>Jalaj Saxena deserves a place at Chennai Super...</td>\n",
       "      <td>https://www.indiatoday.in/sports/cricket/story...</td>\n",
       "      <td>Jalaj Saxena is a 33-year-old right-hand batsm...</td>\n",
       "      <td>['Former India wicketkeeper Deep Dasgupta feel...</td>\n",
       "      <td>https://akm-img-a-in.tosshub.com/indiatoday/im...</td>\n",
       "    </tr>\n",
       "    <tr>\n",
       "      <th>2</th>\n",
       "      <td>History-sheeter arrested for robbing pilot at ...</td>\n",
       "      <td>https://www.indiatoday.in/crime/story/history-...</td>\n",
       "      <td>A history-sheeter, who was arrested for robbin...</td>\n",
       "      <td>['A history-sheeter, who was arrested for robb...</td>\n",
       "      <td>https://akm-img-a-in.tosshub.com/indiatoday/im...</td>\n",
       "    </tr>\n",
       "    <tr>\n",
       "      <th>3</th>\n",
       "      <td>Bundelkhand folksinger Deshraj Pateriya dies a...</td>\n",
       "      <td>https://www.indiatoday.in/lifestyle/celebrity/...</td>\n",
       "      <td>Eminent Bundelkhand folksinger Deshraj Pateriy...</td>\n",
       "      <td>['Eminent folksinger Deshraj Pateriya passed a...</td>\n",
       "      <td>https://akm-img-a-in.tosshub.com/indiatoday/im...</td>\n",
       "    </tr>\n",
       "    <tr>\n",
       "      <th>4</th>\n",
       "      <td>Nations League: Czech Republic-Scotland game c...</td>\n",
       "      <td>https://www.indiatoday.in/sports/football/stor...</td>\n",
       "      <td>With a staff member testing positive and seven...</td>\n",
       "      <td>[\"The Nations League game between the Czech Re...</td>\n",
       "      <td>https://akm-img-a-in.tosshub.com/indiatoday/im...</td>\n",
       "    </tr>\n",
       "  </tbody>\n",
       "</table>\n",
       "</div>"
      ],
      "text/plain": [
       "                                               Title  \\\n",
       "0  Cuba welcomes tourists after months of being c...   \n",
       "1  Jalaj Saxena deserves a place at Chennai Super...   \n",
       "2  History-sheeter arrested for robbing pilot at ...   \n",
       "3  Bundelkhand folksinger Deshraj Pateriya dies a...   \n",
       "4  Nations League: Czech Republic-Scotland game c...   \n",
       "\n",
       "                                           Story Url  \\\n",
       "0  https://www.indiatoday.in/lifestyle/travel/sto...   \n",
       "1  https://www.indiatoday.in/sports/cricket/story...   \n",
       "2  https://www.indiatoday.in/crime/story/history-...   \n",
       "3  https://www.indiatoday.in/lifestyle/celebrity/...   \n",
       "4  https://www.indiatoday.in/sports/football/stor...   \n",
       "\n",
       "                                         Brief Intro  \\\n",
       "0  Cuba finally welcomed tourists after months of...   \n",
       "1  Jalaj Saxena is a 33-year-old right-hand batsm...   \n",
       "2  A history-sheeter, who was arrested for robbin...   \n",
       "3  Eminent Bundelkhand folksinger Deshraj Pateriy...   \n",
       "4  With a staff member testing positive and seven...   \n",
       "\n",
       "                                           Paragraph  \\\n",
       "0  ['Cuba rolled out the red carpet on Friday for...   \n",
       "1  ['Former India wicketkeeper Deep Dasgupta feel...   \n",
       "2  ['A history-sheeter, who was arrested for robb...   \n",
       "3  ['Eminent folksinger Deshraj Pateriya passed a...   \n",
       "4  [\"The Nations League game between the Czech Re...   \n",
       "\n",
       "                                           Image Url  \n",
       "0  https://akm-img-a-in.tosshub.com/indiatoday/im...  \n",
       "1  https://akm-img-a-in.tosshub.com/indiatoday/im...  \n",
       "2  https://akm-img-a-in.tosshub.com/indiatoday/im...  \n",
       "3  https://akm-img-a-in.tosshub.com/indiatoday/im...  \n",
       "4  https://akm-img-a-in.tosshub.com/indiatoday/im...  "
      ]
     },
     "execution_count": 13,
     "metadata": {},
     "output_type": "execute_result"
    }
   ],
   "source": [
    "prediction_data.head()"
   ]
  },
  {
   "cell_type": "code",
   "execution_count": 14,
   "metadata": {},
   "outputs": [],
   "source": [
    "prediction_data['label'] = 't'\n",
    "prediction_data = prediction_data.fillna(' ')\n",
    "prediction_data['total'] = prediction_data['Title'] + prediction_data['Brief Intro'] + prediction_data['Paragraph']"
   ]
  },
  {
   "cell_type": "code",
   "execution_count": 15,
   "metadata": {},
   "outputs": [
    {
     "name": "stderr",
     "output_type": "stream",
     "text": [
      "/home/gray/anaconda3/lib/python3.7/site-packages/sklearn/feature_extraction/text.py:1466: RuntimeWarning: divide by zero encountered in true_divide\n",
      "  idf = np.log(n_samples / df) + 1\n"
     ]
    }
   ],
   "source": [
    "pred_counts = count_vectorizer.transform(prediction_data['total'].values)\n",
    "pred_tfidf = transformer.fit_transform(pred_counts)"
   ]
  },
  {
   "cell_type": "code",
   "execution_count": 16,
   "metadata": {},
   "outputs": [
    {
     "data": {
      "text/plain": [
       "array([[0.51873276, 0.48126724],\n",
       "       [0.00180459, 0.99819541],\n",
       "       [0.04786925, 0.95213075],\n",
       "       [0.13193   , 0.86807   ],\n",
       "       [0.30259299, 0.69740701],\n",
       "       [0.20809786, 0.79190214],\n",
       "       [0.7166745 , 0.2833255 ],\n",
       "       [0.99407351, 0.00592649],\n",
       "       [0.76370723, 0.23629277],\n",
       "       [0.1824132 , 0.8175868 ],\n",
       "       [0.38333772, 0.61666228],\n",
       "       [0.1319462 , 0.8680538 ]])"
      ]
     },
     "execution_count": 16,
     "metadata": {},
     "output_type": "execute_result"
    }
   ],
   "source": [
    "predictions = logreg.predict_proba(pred_counts)\n",
    "predictions"
   ]
  },
  {
   "cell_type": "code",
   "execution_count": 17,
   "metadata": {},
   "outputs": [],
   "source": [
    "prediction_data['label'] = predictions[:, [0]]*100"
   ]
  },
  {
   "cell_type": "code",
   "execution_count": 18,
   "metadata": {},
   "outputs": [
    {
     "data": {
      "text/html": [
       "<div>\n",
       "<style scoped>\n",
       "    .dataframe tbody tr th:only-of-type {\n",
       "        vertical-align: middle;\n",
       "    }\n",
       "\n",
       "    .dataframe tbody tr th {\n",
       "        vertical-align: top;\n",
       "    }\n",
       "\n",
       "    .dataframe thead th {\n",
       "        text-align: right;\n",
       "    }\n",
       "</style>\n",
       "<table border=\"1\" class=\"dataframe\">\n",
       "  <thead>\n",
       "    <tr style=\"text-align: right;\">\n",
       "      <th></th>\n",
       "      <th>Title</th>\n",
       "      <th>Story Url</th>\n",
       "      <th>Brief Intro</th>\n",
       "      <th>Paragraph</th>\n",
       "      <th>Image Url</th>\n",
       "      <th>label</th>\n",
       "      <th>total</th>\n",
       "    </tr>\n",
       "  </thead>\n",
       "  <tbody>\n",
       "    <tr>\n",
       "      <th>0</th>\n",
       "      <td>Cuba welcomes tourists after months of being c...</td>\n",
       "      <td>https://www.indiatoday.in/lifestyle/travel/sto...</td>\n",
       "      <td>Cuba finally welcomed tourists after months of...</td>\n",
       "      <td>['Cuba rolled out the red carpet on Friday for...</td>\n",
       "      <td>https://akm-img-a-in.tosshub.com/indiatoday/im...</td>\n",
       "      <td>51.873276</td>\n",
       "      <td>Cuba welcomes tourists after months of being c...</td>\n",
       "    </tr>\n",
       "    <tr>\n",
       "      <th>1</th>\n",
       "      <td>Jalaj Saxena deserves a place at Chennai Super...</td>\n",
       "      <td>https://www.indiatoday.in/sports/cricket/story...</td>\n",
       "      <td>Jalaj Saxena is a 33-year-old right-hand batsm...</td>\n",
       "      <td>['Former India wicketkeeper Deep Dasgupta feel...</td>\n",
       "      <td>https://akm-img-a-in.tosshub.com/indiatoday/im...</td>\n",
       "      <td>0.180459</td>\n",
       "      <td>Jalaj Saxena deserves a place at Chennai Super...</td>\n",
       "    </tr>\n",
       "    <tr>\n",
       "      <th>2</th>\n",
       "      <td>History-sheeter arrested for robbing pilot at ...</td>\n",
       "      <td>https://www.indiatoday.in/crime/story/history-...</td>\n",
       "      <td>A history-sheeter, who was arrested for robbin...</td>\n",
       "      <td>['A history-sheeter, who was arrested for robb...</td>\n",
       "      <td>https://akm-img-a-in.tosshub.com/indiatoday/im...</td>\n",
       "      <td>4.786925</td>\n",
       "      <td>History-sheeter arrested for robbing pilot at ...</td>\n",
       "    </tr>\n",
       "    <tr>\n",
       "      <th>3</th>\n",
       "      <td>Bundelkhand folksinger Deshraj Pateriya dies a...</td>\n",
       "      <td>https://www.indiatoday.in/lifestyle/celebrity/...</td>\n",
       "      <td>Eminent Bundelkhand folksinger Deshraj Pateriy...</td>\n",
       "      <td>['Eminent folksinger Deshraj Pateriya passed a...</td>\n",
       "      <td>https://akm-img-a-in.tosshub.com/indiatoday/im...</td>\n",
       "      <td>13.193000</td>\n",
       "      <td>Bundelkhand folksinger Deshraj Pateriya dies a...</td>\n",
       "    </tr>\n",
       "    <tr>\n",
       "      <th>4</th>\n",
       "      <td>Nations League: Czech Republic-Scotland game c...</td>\n",
       "      <td>https://www.indiatoday.in/sports/football/stor...</td>\n",
       "      <td>With a staff member testing positive and seven...</td>\n",
       "      <td>[\"The Nations League game between the Czech Re...</td>\n",
       "      <td>https://akm-img-a-in.tosshub.com/indiatoday/im...</td>\n",
       "      <td>30.259299</td>\n",
       "      <td>Nations League: Czech Republic-Scotland game c...</td>\n",
       "    </tr>\n",
       "    <tr>\n",
       "      <th>5</th>\n",
       "      <td>Italy's winning streak ends at 11 after draw w...</td>\n",
       "      <td>https://www.indiatoday.in/sports/football/stor...</td>\n",
       "      <td>Netherlands began life after Ronald Koeman wit...</td>\n",
       "      <td>[\"Bosnia ended Italy's run of 11 successive wi...</td>\n",
       "      <td>https://akm-img-a-in.tosshub.com/indiatoday/im...</td>\n",
       "      <td>20.809786</td>\n",
       "      <td>Italy's winning streak ends at 11 after draw w...</td>\n",
       "    </tr>\n",
       "    <tr>\n",
       "      <th>6</th>\n",
       "      <td>China's agressive behaviour violates bilateral...</td>\n",
       "      <td>https://www.indiatoday.in/india/story/china-s-...</td>\n",
       "      <td>Defence Minister Rajnath Singh told his Chines...</td>\n",
       "      <td>[\"Defence Minister Rajnath Singh told Chinese ...</td>\n",
       "      <td>https://akm-img-a-in.tosshub.com/indiatoday/im...</td>\n",
       "      <td>71.667450</td>\n",
       "      <td>China's agressive behaviour violates bilateral...</td>\n",
       "    </tr>\n",
       "    <tr>\n",
       "      <th>7</th>\n",
       "      <td>Coronavirus cases in Delhi increasing due to m...</td>\n",
       "      <td>https://www.indiatoday.in/india/story/coronavi...</td>\n",
       "      <td>Chief Minister Arvind Kejriwal said on Saturda...</td>\n",
       "      <td>['Chief Minister Arvind Kejriwal said on Satur...</td>\n",
       "      <td>https://akm-img-a-in.tosshub.com/indiatoday/im...</td>\n",
       "      <td>99.407351</td>\n",
       "      <td>Coronavirus cases in Delhi increasing due to m...</td>\n",
       "    </tr>\n",
       "    <tr>\n",
       "      <th>8</th>\n",
       "      <td>Veteran actor Y Gee Mahendra completes 50 year...</td>\n",
       "      <td>https://www.indiatoday.in/movies/regional-cine...</td>\n",
       "      <td>Veteran actor Y Gee Mahendra, in a recent post...</td>\n",
       "      <td>[\"Veteran actor-playwriter Y Gee Mahendra has ...</td>\n",
       "      <td>https://akm-img-a-in.tosshub.com/indiatoday/im...</td>\n",
       "      <td>76.370723</td>\n",
       "      <td>Veteran actor Y Gee Mahendra completes 50 year...</td>\n",
       "    </tr>\n",
       "    <tr>\n",
       "      <th>9</th>\n",
       "      <td>Sushant death case: Rhea bought and sold drugs...</td>\n",
       "      <td>https://www.indiatoday.in/movies/celebrities/s...</td>\n",
       "      <td>The NCB crime report says that Rhea Chakrabort...</td>\n",
       "      <td>[\"The crime report of Narcotics Control Bureau...</td>\n",
       "      <td>https://akm-img-a-in.tosshub.com/indiatoday/im...</td>\n",
       "      <td>18.241320</td>\n",
       "      <td>Sushant death case: Rhea bought and sold drugs...</td>\n",
       "    </tr>\n",
       "    <tr>\n",
       "      <th>10</th>\n",
       "      <td>Borna Coric comeback sends Stefanos Tsitsipas ...</td>\n",
       "      <td>https://www.indiatoday.in/sports/tennis/story/...</td>\n",
       "      <td>Borna Coric pulled off a great escape, avoidin...</td>\n",
       "      <td>['Croatian Borna Coric saved six match points ...</td>\n",
       "      <td>https://akm-img-a-in.tosshub.com/indiatoday/im...</td>\n",
       "      <td>38.333772</td>\n",
       "      <td>Borna Coric comeback sends Stefanos Tsitsipas ...</td>\n",
       "    </tr>\n",
       "    <tr>\n",
       "      <th>11</th>\n",
       "      <td>Telangana Finance Minister tests positive for ...</td>\n",
       "      <td>https://www.indiatoday.in/india/story/telangan...</td>\n",
       "      <td>Telangana's Finance Minister T Harish Rao has ...</td>\n",
       "      <td>[\"T Harish Rao, Telangana's Finance Minister h...</td>\n",
       "      <td>https://akm-img-a-in.tosshub.com/indiatoday/im...</td>\n",
       "      <td>13.194620</td>\n",
       "      <td>Telangana Finance Minister tests positive for ...</td>\n",
       "    </tr>\n",
       "  </tbody>\n",
       "</table>\n",
       "</div>"
      ],
      "text/plain": [
       "                                                Title  \\\n",
       "0   Cuba welcomes tourists after months of being c...   \n",
       "1   Jalaj Saxena deserves a place at Chennai Super...   \n",
       "2   History-sheeter arrested for robbing pilot at ...   \n",
       "3   Bundelkhand folksinger Deshraj Pateriya dies a...   \n",
       "4   Nations League: Czech Republic-Scotland game c...   \n",
       "5   Italy's winning streak ends at 11 after draw w...   \n",
       "6   China's agressive behaviour violates bilateral...   \n",
       "7   Coronavirus cases in Delhi increasing due to m...   \n",
       "8   Veteran actor Y Gee Mahendra completes 50 year...   \n",
       "9   Sushant death case: Rhea bought and sold drugs...   \n",
       "10  Borna Coric comeback sends Stefanos Tsitsipas ...   \n",
       "11  Telangana Finance Minister tests positive for ...   \n",
       "\n",
       "                                            Story Url  \\\n",
       "0   https://www.indiatoday.in/lifestyle/travel/sto...   \n",
       "1   https://www.indiatoday.in/sports/cricket/story...   \n",
       "2   https://www.indiatoday.in/crime/story/history-...   \n",
       "3   https://www.indiatoday.in/lifestyle/celebrity/...   \n",
       "4   https://www.indiatoday.in/sports/football/stor...   \n",
       "5   https://www.indiatoday.in/sports/football/stor...   \n",
       "6   https://www.indiatoday.in/india/story/china-s-...   \n",
       "7   https://www.indiatoday.in/india/story/coronavi...   \n",
       "8   https://www.indiatoday.in/movies/regional-cine...   \n",
       "9   https://www.indiatoday.in/movies/celebrities/s...   \n",
       "10  https://www.indiatoday.in/sports/tennis/story/...   \n",
       "11  https://www.indiatoday.in/india/story/telangan...   \n",
       "\n",
       "                                          Brief Intro  \\\n",
       "0   Cuba finally welcomed tourists after months of...   \n",
       "1   Jalaj Saxena is a 33-year-old right-hand batsm...   \n",
       "2   A history-sheeter, who was arrested for robbin...   \n",
       "3   Eminent Bundelkhand folksinger Deshraj Pateriy...   \n",
       "4   With a staff member testing positive and seven...   \n",
       "5   Netherlands began life after Ronald Koeman wit...   \n",
       "6   Defence Minister Rajnath Singh told his Chines...   \n",
       "7   Chief Minister Arvind Kejriwal said on Saturda...   \n",
       "8   Veteran actor Y Gee Mahendra, in a recent post...   \n",
       "9   The NCB crime report says that Rhea Chakrabort...   \n",
       "10  Borna Coric pulled off a great escape, avoidin...   \n",
       "11  Telangana's Finance Minister T Harish Rao has ...   \n",
       "\n",
       "                                            Paragraph  \\\n",
       "0   ['Cuba rolled out the red carpet on Friday for...   \n",
       "1   ['Former India wicketkeeper Deep Dasgupta feel...   \n",
       "2   ['A history-sheeter, who was arrested for robb...   \n",
       "3   ['Eminent folksinger Deshraj Pateriya passed a...   \n",
       "4   [\"The Nations League game between the Czech Re...   \n",
       "5   [\"Bosnia ended Italy's run of 11 successive wi...   \n",
       "6   [\"Defence Minister Rajnath Singh told Chinese ...   \n",
       "7   ['Chief Minister Arvind Kejriwal said on Satur...   \n",
       "8   [\"Veteran actor-playwriter Y Gee Mahendra has ...   \n",
       "9   [\"The crime report of Narcotics Control Bureau...   \n",
       "10  ['Croatian Borna Coric saved six match points ...   \n",
       "11  [\"T Harish Rao, Telangana's Finance Minister h...   \n",
       "\n",
       "                                            Image Url      label  \\\n",
       "0   https://akm-img-a-in.tosshub.com/indiatoday/im...  51.873276   \n",
       "1   https://akm-img-a-in.tosshub.com/indiatoday/im...   0.180459   \n",
       "2   https://akm-img-a-in.tosshub.com/indiatoday/im...   4.786925   \n",
       "3   https://akm-img-a-in.tosshub.com/indiatoday/im...  13.193000   \n",
       "4   https://akm-img-a-in.tosshub.com/indiatoday/im...  30.259299   \n",
       "5   https://akm-img-a-in.tosshub.com/indiatoday/im...  20.809786   \n",
       "6   https://akm-img-a-in.tosshub.com/indiatoday/im...  71.667450   \n",
       "7   https://akm-img-a-in.tosshub.com/indiatoday/im...  99.407351   \n",
       "8   https://akm-img-a-in.tosshub.com/indiatoday/im...  76.370723   \n",
       "9   https://akm-img-a-in.tosshub.com/indiatoday/im...  18.241320   \n",
       "10  https://akm-img-a-in.tosshub.com/indiatoday/im...  38.333772   \n",
       "11  https://akm-img-a-in.tosshub.com/indiatoday/im...  13.194620   \n",
       "\n",
       "                                                total  \n",
       "0   Cuba welcomes tourists after months of being c...  \n",
       "1   Jalaj Saxena deserves a place at Chennai Super...  \n",
       "2   History-sheeter arrested for robbing pilot at ...  \n",
       "3   Bundelkhand folksinger Deshraj Pateriya dies a...  \n",
       "4   Nations League: Czech Republic-Scotland game c...  \n",
       "5   Italy's winning streak ends at 11 after draw w...  \n",
       "6   China's agressive behaviour violates bilateral...  \n",
       "7   Coronavirus cases in Delhi increasing due to m...  \n",
       "8   Veteran actor Y Gee Mahendra completes 50 year...  \n",
       "9   Sushant death case: Rhea bought and sold drugs...  \n",
       "10  Borna Coric comeback sends Stefanos Tsitsipas ...  \n",
       "11  Telangana Finance Minister tests positive for ...  "
      ]
     },
     "execution_count": 18,
     "metadata": {},
     "output_type": "execute_result"
    }
   ],
   "source": [
    "prediction_data"
   ]
  },
  {
   "cell_type": "code",
   "execution_count": 19,
   "metadata": {},
   "outputs": [],
   "source": [
    "prediction_data.to_csv(\"first_database.csv\", index=False)"
   ]
  },
  {
   "cell_type": "code",
   "execution_count": 20,
   "metadata": {},
   "outputs": [
    {
     "data": {
      "text/plain": [
       "'[\\'Cuba rolled out the red carpet on Friday for the first planeload of tourists to arrive on the Communist-run island in months as it struggles toward a post-pandemic new normalcy.\\', \\'The import-dependent country has been plunged into crisis and scarcity by tough US sanctions and the Covid-19 outbreak.\\', \\'The arrival was seen as a hopeful sign for tens of thousands of laid-off leisure industry employees, shuttered small businesses and hard-pressed residents in general. An Air Canada plane arrived at midday at the Cayo-Coco airport on the northcentral coast.\\', \"Air Canada Vacations, the airline\\'s tour business, said it would now fly weekly to Cuba and biweekly beginning next month.\", \\'Cuba closed its airports in March due to the pandemic. While some hotels are open under international sanitary regulations at resorts in isolated areas such as Cayo-Coco, there is no indication when Havana and other cities might allow foreign visitors to return.\\', \\'Cuba has managed to control the pandemic in most of the country. But it is currently trying to contain a new outbreak in Havana, along with lesser outbreaks in a few other provinces.\\', \"The country has reported nearly 4,300 Covid-19 cases to date and 100 deaths. Canada has long been Cuba\\'s most important tourist provider, accounting for 1.1 million of the 4.2 million arrivals in 2019, according to the government. Industry revenues were $2.6 billion last year.\", \\'The United States bans residents from making tourist trips to Cuba as part of its decades-old trade embargo, but U.S. citizens can still travel to the Caribbean island for purposes including education.\\', \\'ALSO READ: Priceless Thailand: Beyond the beaches and sexcitement\\', \\'ALSO READ: Konark Sun temple reopens for visitors after five months\\', \\'ALSO READ: Check in but never leave: Taiwan offers fake flights for travel-starved tourists\\''"
      ]
     },
     "execution_count": 20,
     "metadata": {},
     "output_type": "execute_result"
    }
   ],
   "source": [
    "prediction_data[\"Paragraph\"][0].rstrip(\"[]\")"
   ]
  },
  {
   "cell_type": "code",
   "execution_count": 21,
   "metadata": {},
   "outputs": [
    {
     "data": {
      "text/plain": [
       "'[\\'Cuba rolled out the red carpet on Friday for the first planeload of tourists to arrive on the Communist-run island in months as it struggles toward a post-pandemic new normalcy.\\', \\'The import-dependent country has been plunged into crisis and scarcity by tough US sanctions and the Covid-19 outbreak.\\', \\'The arrival was seen as a hopeful sign for tens of thousands of laid-off leisure industry employees, shuttered small businesses and hard-pressed residents in general. An Air Canada plane arrived at midday at the Cayo-Coco airport on the northcentral coast.\\', \"Air Canada Vacations, the airline\\'s tour business, said it would now fly weekly to Cuba and biweekly beginning next month.\", \\'Cuba closed its airports in March due to the pandemic. While some hotels are open under international sanitary regulations at resorts in isolated areas such as Cayo-Coco, there is no indication when Havana and other cities might allow foreign visitors to return.\\', \\'Cuba has managed to control the pandemic in most of the country. But it is currently trying to contain a new outbreak in Havana, along with lesser outbreaks in a few other provinces.\\', \"The country has reported nearly 4,300 Covid-19 cases to date and 100 deaths. Canada has long been Cuba\\'s most important tourist provider, accounting for 1.1 million of the 4.2 million arrivals in 2019, according to the government. Industry revenues were $2.6 billion last year.\", \\'The United States bans residents from making tourist trips to Cuba as part of its decades-old trade embargo, but U.S. citizens can still travel to the Caribbean island for purposes including education.\\', \\'ALSO READ: Priceless Thailand: Beyond the beaches and sexcitement\\', \\'ALSO READ: Konark Sun temple reopens for visitors after five months\\', \\'ALSO READ: Check in but never leave: Taiwan offers fake flights for travel-starved tourists\\']'"
      ]
     },
     "execution_count": 21,
     "metadata": {},
     "output_type": "execute_result"
    }
   ],
   "source": [
    "prediction_data[\"Paragraph\"][0]"
   ]
  },
  {
   "cell_type": "code",
   "execution_count": 44,
   "metadata": {},
   "outputs": [
    {
     "data": {
      "text/plain": [
       "'Cuba rolled out the red carpet on Friday for the first planeload of tourists to arrive on the Communist-run island in months as it struggles toward a post-pandemic new normalcy.\\', \\'The import-dependent country has been plunged into crisis and scarcity by tough US sanctions and the Covid-19 outbreak.\\', \\'The arrival was seen as a hopeful sign for tens of thousands of laid-off leisure industry employees, shuttered small businesses and hard-pressed residents in general. An Air Canada plane arrived at midday at the Cayo-Coco airport on the northcentral coast.\\', \"Air Canada Vacations, the airline\\'s tour business, said it would now fly weekly to Cuba and biweekly beginning next month.\", \\'Cuba closed its airports in March due to the pandemic. While some hotels are open under international sanitary regulations at resorts in isolated areas such as Cayo-Coco, there is no indication when Havana and other cities might allow foreign visitors to return.\\', \\'Cuba has managed to control the pandemic in most of the country. But it is currently trying to contain a new outbreak in Havana, along with lesser outbreaks in a few other provinces.\\', \"The country has reported nearly 4,300 Covid-19 cases to date and 100 deaths. Canada has long been Cuba\\'s most important tourist provider, accounting for 1.1 million of the 4.2 million arrivals in 2019, according to the government. Industry revenues were $2.6 billion last year.\", \\'The United States bans residents from making tourist trips to Cuba as part of its decades-old trade embargo, but U.S. citizens can still travel to the Caribbean island for purposes including education.\\', \\'ALSO READ: Priceless Thailand: Beyond the beaches and sexcitement\\', \\'ALSO READ: Konark Sun temple reopens for visitors after five months\\', \\'ALSO READ: Check in but never leave: Taiwan offers fake flights for travel-starved tourists'"
      ]
     },
     "execution_count": 44,
     "metadata": {},
     "output_type": "execute_result"
    }
   ],
   "source": [
    "li = ['[', ']', '\\'', '\\\"', '\\\\']\n",
    "\n",
    "prediction_data[\"Paragraph\"][0].strip(\"[]\\\\\\','\")"
   ]
  },
  {
   "cell_type": "code",
   "execution_count": null,
   "metadata": {},
   "outputs": [],
   "source": []
  },
  {
   "cell_type": "code",
   "execution_count": null,
   "metadata": {},
   "outputs": [],
   "source": []
  }
 ],
 "metadata": {
  "colab": {
   "name": "Untitled3.ipynb",
   "provenance": []
  },
  "kernelspec": {
   "display_name": "Python 3",
   "language": "python",
   "name": "python3"
  },
  "language_info": {
   "codemirror_mode": {
    "name": "ipython",
    "version": 3
   },
   "file_extension": ".py",
   "mimetype": "text/x-python",
   "name": "python",
   "nbconvert_exporter": "python",
   "pygments_lexer": "ipython3",
   "version": "3.7.6"
  }
 },
 "nbformat": 4,
 "nbformat_minor": 1
}
